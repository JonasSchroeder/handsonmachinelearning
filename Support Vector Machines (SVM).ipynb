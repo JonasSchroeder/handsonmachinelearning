{
 "cells": [
  {
   "cell_type": "markdown",
   "metadata": {},
   "source": [
    "# Support Vector Machines (SMVs)\n",
    "\n",
    "One of the most popular ML models that can be used for linear or non-linear classification, regression, and outlier detection. SMVs are particularly for classification on complex small- or medium-sized datasets.\n",
    "\n",
    "### Table of Content\n",
    "#### 1. Linear SVM Classification\n",
    "#### 2. Non-Linear SVM Classification\n",
    "#### 3. SVM Regression\n"
   ]
  },
  {
   "cell_type": "markdown",
   "metadata": {},
   "source": [
    "# 1. Linear SVM Classification\n",
    "\n",
    "The basic idea is to find a decision boundary that not only separates the classes but stays as far away from the closest training instances as possible. Thus, a SVM tries to build the widest street possible between the classes (**large margin classification**).\n",
    "\n",
    "**Soft Margin Classification**\n",
    "Since it is not always possible to find a decision boundary that perfectly separates the classes and has a wide margin (for example when there are outliers), we can build a more flexible model that allows for instances to end up \"in the middle of the road\" or on the other side (which is a **margin violation**) but still tries to keep the road as wide as possible.\n",
    "\n",
    "The **hyperparameter C** is used to control how wide the street will be and thus influences the amount of margin error. Again, we have a trade-off: a model with only a few margin violations might generalize worse than one with a wider street and more violations."
   ]
  },
  {
   "cell_type": "code",
   "execution_count": null,
   "metadata": {},
   "outputs": [],
   "source": []
  }
 ],
 "metadata": {
  "kernelspec": {
   "display_name": "Python 3",
   "language": "python",
   "name": "python3"
  },
  "language_info": {
   "codemirror_mode": {
    "name": "ipython",
    "version": 3
   },
   "file_extension": ".py",
   "mimetype": "text/x-python",
   "name": "python",
   "nbconvert_exporter": "python",
   "pygments_lexer": "ipython3",
   "version": "3.8.5"
  }
 },
 "nbformat": 4,
 "nbformat_minor": 4
}
