{
 "cells": [
  {
   "cell_type": "markdown",
   "id": "relevant-raising",
   "metadata": {},
   "source": [
    "# Dimensionality Reduction\n",
    "\n",
    "Dimensionality reduction refers to the optimal reduction of features without losing much information. Many ML problems involve thousands of features for each instance. This not just makes training the model very slow, it also makes it much harder to find a good solution.\n",
    "\n",
    "**Curse of dimensionality:**\n",
    "\n",
    "Most of the pixel in the MNIST dataset are white and they are not important for the classification problem, so they can be dropped without a loss in accuracy but an increase in performance. Furthermore, neighbouring pixel are often highly correlated and we can merge them into a single pixel by taking the mean of their intensity.\n",
    "\n",
    "Note: dimensionality reduction speeds up the training but generally does not increase the performance on its own (but speed leads to better model optimization possibilities)."
   ]
  },
  {
   "cell_type": "code",
   "execution_count": 1,
   "id": "satellite-queens",
   "metadata": {},
   "outputs": [],
   "source": [
    "# Random Forest to show MNIST pixels' importance\n",
    "\n",
    "from sklearn.datasets import fetch_openml\n",
    "mnist = fetch_openml('mnist_784', version=1)\n",
    "\n",
    "X, y = mnist[\"data\"], mnist[\"target\"]\n",
    "\n",
    "from sklearn.model_selection import train_test_split\n",
    "X_train, X_test, y_train, y_test = train_test_split(X, y, test_size=0.2, shuffle=True, random_state=0)"
   ]
  },
  {
   "cell_type": "code",
   "execution_count": 3,
   "id": "considerable-baghdad",
   "metadata": {},
   "outputs": [],
   "source": [
    "from sklearn.preprocessing import StandardScaler\n",
    "\n",
    "scaler = StandardScaler()\n",
    "\n",
    "X_train = scaler.fit_transform(X_train)\n",
    "X_test = scaler.fit_transform(X_test)"
   ]
  },
  {
   "cell_type": "code",
   "execution_count": 19,
   "id": "competitive-search",
   "metadata": {},
   "outputs": [
    {
     "data": {
      "text/plain": [
       "<AxesSubplot:>"
      ]
     },
     "execution_count": 19,
     "metadata": {},
     "output_type": "execute_result"
    },
    {
     "data": {
      "image/png": "[encoded data removed]",
      "text/plain": [
       "<Figure size 432x288 with 2 Axes>"
      ]
     },
     "metadata": {
      "needs_background": "light"
     },
     "output_type": "display_data"
    }
   ],
   "source": [
    "from sklearn.ensemble import RandomForestClassifier\n",
    "\n",
    "rnd_clf = RandomForestClassifier(n_estimators=200, n_jobs=-1)\n",
    "\n",
    "rnd_clf.fit(X_train, y_train)\n",
    "\n",
    "pixel_importances = rnd_clf.feature_importances_.reshape(28,28)\n",
    "\n",
    "import seaborn as sns\n",
    "sns.heatmap(pixel_importances)\n"
   ]
  },
  {
   "cell_type": "code",
   "execution_count": null,
   "id": "inner-turkish",
   "metadata": {},
   "outputs": [],
   "source": []
  }
 ],
 "metadata": {
  "kernelspec": {
   "display_name": "Python 3",
   "language": "python",
   "name": "python3"
  },
  "language_info": {
   "codemirror_mode": {
    "name": "ipython",
    "version": 3
   },
   "file_extension": ".py",
   "mimetype": "text/x-python",
   "name": "python",
   "nbconvert_exporter": "python",
   "pygments_lexer": "ipython3",
   "version": "3.8.5"
  }
 },
 "nbformat": 4,
 "nbformat_minor": 5
}
