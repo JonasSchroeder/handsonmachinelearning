{
 "cells": [
  {
   "cell_type": "markdown",
   "id": "computational-address",
   "metadata": {},
   "source": [
    "# Intro to ANNs\n",
    "\n",
    "Artificial Neural Networks has been around for a while with varying interest. NNs regularly outperform other ML techniques on very large and complex problems. Experts expect NNs to stay popular this time due to the vast amount of available data and compute power. Although this all sounds good, lack of explainability (black box model) could become more of an issue with AI ethics.\n",
    "\n",
    "## 1. Perceptron\n",
    "\n",
    "Invented in 1957, the Perceptron is one of the simplest ANN architecture. It consists of just one **threshold logic unit (TLU)**, which computes the weighted sum of the inputs and applies a step function (as activation function) to that sum to generate outputs. \n",
    "\n",
    "Thus, the Perceptron with a single TLU can be used for simple linear binary classification similar to Logistic Regression. Once the weighted sum exceeds the threshold, the instance is considered to be positive, else negative. Extending the Perceptron with multiple TLUs allows for multiclass predictions.\n",
    "\n",
    "A big downside of Perceptrons is that they are incapable of learning complex patterns since the decision boundary is linear (same as in Logistic Regression). A more complex ANN is necesseray for linearily non-separable datasets. Furthermore, compared to Logistic regression the Perceptron does not output class probabiity but class belonging based on a hard threshold, which is why Logistic Regression should be preferred.\n",
    "\n",
    "**Let's apply the Perceptron with a single TLU to the iris dataset**"
   ]
  },
  {
   "cell_type": "code",
   "execution_count": 2,
   "id": "developing-nepal",
   "metadata": {},
   "outputs": [
    {
     "data": {
      "text/plain": [
       "array([1, 1, 1, 1, 1, 1, 1, 1, 1, 1, 1, 1, 1, 1, 1, 1, 1, 1, 1, 1, 1, 1,\n",
       "       1, 1, 1, 1, 1, 1, 1, 1, 1, 1, 1, 1, 1, 1, 1, 1, 1, 1, 1, 1, 1, 1,\n",
       "       1, 1, 1, 1, 1, 1, 0, 0, 0, 0, 0, 0, 0, 0, 0, 0, 0, 0, 0, 0, 0, 0,\n",
       "       0, 0, 0, 0, 0, 0, 0, 0, 0, 0, 0, 0, 0, 0, 0, 0, 0, 0, 0, 0, 0, 0,\n",
       "       0, 0, 0, 0, 0, 0, 0, 0, 0, 0, 0, 0, 0, 0, 0, 0, 0, 0, 0, 0, 0, 0,\n",
       "       0, 0, 0, 0, 0, 0, 0, 0, 0, 0, 0, 0, 0, 0, 0, 0, 0, 0, 0, 0, 0, 0,\n",
       "       0, 0, 0, 0, 0, 0, 0, 0, 0, 0, 0, 0, 0, 0, 0, 0, 0, 0])"
      ]
     },
     "execution_count": 2,
     "metadata": {},
     "output_type": "execute_result"
    }
   ],
   "source": [
    "# load data\n",
    "from sklearn import datasets\n",
    "import numpy as np\n",
    "from sklearn.linear_model import Perceptron\n",
    "\n",
    "iris = datasets.load_iris()\n",
    "\n",
    "X = iris[\"data\"][:,2:3] # Petal length and width\n",
    "y = (iris[\"target\"]==0) # Setosa?\n",
    "y = y.astype(np.int)\n",
    "\n",
    "per_clf = Perceptron()\n",
    "per_clf.fit(X, y)\n",
    "\n",
    "y_pred = per_clf.predict(X)\n",
    "y_pred"
   ]
  },
  {
   "cell_type": "code",
   "execution_count": 3,
   "id": "pressed-marine",
   "metadata": {},
   "outputs": [
    {
     "data": {
      "text/plain": [
       "array([1, 1, 1, 1, 1, 1, 1, 1, 1, 1, 1, 1, 1, 1, 1, 1, 1, 1, 1, 1, 1, 1,\n",
       "       1, 1, 1, 1, 1, 1, 1, 1, 1, 1, 1, 1, 1, 1, 1, 1, 1, 1, 1, 1, 1, 1,\n",
       "       1, 1, 1, 1, 1, 1, 0, 0, 0, 0, 0, 0, 0, 0, 0, 0, 0, 0, 0, 0, 0, 0,\n",
       "       0, 0, 0, 0, 0, 0, 0, 0, 0, 0, 0, 0, 0, 0, 0, 0, 0, 0, 0, 0, 0, 0,\n",
       "       0, 0, 0, 0, 0, 0, 0, 0, 0, 0, 0, 0, 0, 0, 0, 0, 0, 0, 0, 0, 0, 0,\n",
       "       0, 0, 0, 0, 0, 0, 0, 0, 0, 0, 0, 0, 0, 0, 0, 0, 0, 0, 0, 0, 0, 0,\n",
       "       0, 0, 0, 0, 0, 0, 0, 0, 0, 0, 0, 0, 0, 0, 0, 0, 0, 0])"
      ]
     },
     "execution_count": 3,
     "metadata": {},
     "output_type": "execute_result"
    }
   ],
   "source": [
    "y"
   ]
  },
  {
   "cell_type": "markdown",
   "id": "dramatic-wyoming",
   "metadata": {},
   "source": [
    "## 2. Multilayer Perceptron (MLP)\n",
    "A single TLU Perceptron is very limited. Some if its limitations can be eliminated by stacking multiple Perceptrons together as multiple layers, resulting in a network architecture called **Multilayer Perceptron (MLP)**.\n",
    "\n",
    "An MLP is composed of one input layer followed by multiple layers of TLUs (hidden layers) and a final layer of TLUs (output layer). Every layer except the output layer has a bias unit. Each layer is fully connected. \n",
    "\n",
    "One key difference is that instead of a step function, MLPs use a **sigmoid function** as activation function. Otherwise, the flat surface of a stepfunction would make it impossible to calculate gradients, and the Gradient Descent algorithm for optimization would not worked (other functions would work too, like ReLu)."
   ]
  },
  {
   "cell_type": "code",
   "execution_count": 4,
   "id": "familiar-appraisal",
   "metadata": {},
   "outputs": [
    {
     "name": "stdout",
     "output_type": "stream",
     "text": [
      "actual classes: [1 0 1 1 1 0 0 1 1 0 0 1 1 0 1 0 0 0 0 0 1 1 0 0 1]\n",
      "predicted classes: [1 0 1 0 1 0 0 1 0 0 0 1 1 0 1 0 0 0 0 0 1 1 0 0 1]\n",
      "accuracy score: 0.92\n"
     ]
    }
   ],
   "source": [
    "# Perceptron (single TLU)\n",
    "from sklearn.linear_model import Perceptron\n",
    "from sklearn.datasets import make_classification\n",
    "from sklearn.model_selection import train_test_split\n",
    "\n",
    "X, y = make_classification(n_samples=100, random_state=1)\n",
    "X_train, X_test, y_train, y_test = train_test_split(X, y, stratify=y, random_state=1)\n",
    "\n",
    "perceptron = Perceptron(random_state=1, max_iter=300).fit(X_train, y_train)\n",
    "\n",
    "print(\"actual classes: \" + str(y_test))\n",
    "print(\"predicted classes: \" + str(perceptron.predict(X_test)))\n",
    "print(\"accuracy score: \" + str(perceptron.score(X_test, y_test)))"
   ]
  },
  {
   "cell_type": "code",
   "execution_count": 5,
   "id": "operational-compound",
   "metadata": {},
   "outputs": [
    {
     "name": "stdout",
     "output_type": "stream",
     "text": [
      "actual classes: [1 0 1 1 1 0 0 1 1 0 0 1 1 0 1 0 0 0 0 0 1 1 0 0 1]\n",
      "predicted classes: [1 0 1 0 1 0 0 1 0 0 0 1 1 0 1 0 0 0 0 1 1 1 0 0 1]\n",
      "accuracy score: 0.88\n",
      "number of layers: 3\n"
     ]
    }
   ],
   "source": [
    "# Multilayer Perceptron Classifier\n",
    "from sklearn.neural_network import MLPClassifier\n",
    "from sklearn.datasets import make_classification\n",
    "from sklearn.model_selection import train_test_split\n",
    "\n",
    "X, y = make_classification(n_samples=100, random_state=1)\n",
    "X_train, X_test, y_train, y_test = train_test_split(X, y, stratify=y, random_state=1)\n",
    "\n",
    "mlp_clf = MLPClassifier(random_state=1, max_iter=300).fit(X_train, y_train)\n",
    "\n",
    "print(\"actual classes: \" + str(y_test))\n",
    "print(\"predicted classes: \" + str(mlp_clf.predict(X_test)))\n",
    "#print(mlp_clf.predict_proba(X_test).ravel())\n",
    "print(\"accuracy score: \" + str(mlp_clf.score(X_test, y_test)))\n",
    "print(\"number of layers: \" + str(mlp_clf.n_layers_))"
   ]
  },
  {
   "cell_type": "markdown",
   "id": "wireless-recorder",
   "metadata": {},
   "source": [
    "The **Backpropagation** algorithm is essentially calculating gradient descent forward and backwards, thus finding the network error with regard to every single model parameter. Knowing the error per parameter setting let's us tweak the weights in order to reduce the error. This is repeated until the network converges to a solution.\n",
    "\n",
    "Note: Automatically computing gradients is called **automatic differentiation (autodiff)**. Backpropagation is a type of autodiff, called reverse-mode autodiff.\n",
    "\n",
    "### Learning process:\n",
    "\n",
    "- We start with random weights (initialization).\n",
    "\n",
    "- Using mini-batches, the algorithm goes through the full training set multiple times. Each passthrough is called an **epoch**. \n",
    "\n",
    "- The result of one layer becomes the input of the next layer until we reach the final layer (forward pass). \n",
    "\n",
    "- Then the output is compared to the desired output and a measure of error is returned. \n",
    "\n",
    "- Next, it calculates how much each output connection contributed to the error, and how much of the error came from the connections in the layer before, and so on (reverse pass). \n",
    "\n",
    "- Finally, Gradient Descent is performed to tweak all the connction weights in the network using the error gradients just computed.\n",
    "\n",
    "- All this together is called Backpropagation."
   ]
  },
  {
   "cell_type": "markdown",
   "id": "million-specification",
   "metadata": {},
   "source": [
    "## 2.1 MLP for Regression\n",
    "\n",
    "To predict a single value like housing prices, we need one output layer (one output layer per output dimension). We won't need an activation function before the output layer if we don't want to limit the value range. In case we want to make sure the output is only positive, we can use the ReLu function. Sigmoid function and scaling should be used when the value should be bound to a certain range. MSE or MAE are standard loss functions for MLP regressions.\n",
    "\n",
    "\n",
    "## 2.2 MLP for Classification\n",
    "\n",
    "A binary classification problem can be solved with a single output neuron and a sigmoid activation function. The resulting number corresponds to the estimated probabibility of belonging to the positive class. In multiclass problems we need one output neuron per class and use softmax as activation function. A standard loss function is the cross-entropy loss (or log loss)."
   ]
  },
  {
   "cell_type": "markdown",
   "id": "single-dispute",
   "metadata": {},
   "source": [
    "# 3. Keras & Tensorflow Example\n",
    "\n",
    "We are faced with a multiclass classification problem where we have a couple thousand images of fashion items and want to predict the item class for unseen new product images (fashion MNIST)."
   ]
  },
  {
   "cell_type": "code",
   "execution_count": 6,
   "id": "legendary-frank",
   "metadata": {},
   "outputs": [],
   "source": [
    "import tensorflow as tf\n",
    "from tensorflow import keras\n",
    "\n",
    "# fashion MNIST dataset\n",
    "fashion_mnist = keras.datasets.fashion_mnist\n",
    "(X_train_full, y_train_full), (X_test, y_test) = fashion_mnist.load_data()"
   ]
  },
  {
   "cell_type": "code",
   "execution_count": 7,
   "id": "viral-relaxation",
   "metadata": {},
   "outputs": [],
   "source": [
    "class_names = [\"T-Shirt/top\", \"Trouser\", \"Pullover\", \"Dress\", \"Coat\", \"Sandal\", \"Shirt\",\n",
    "              \"Sneaker\", \"Bag\", \"Ankle boot\"]"
   ]
  },
  {
   "cell_type": "code",
   "execution_count": 8,
   "id": "invisible-sweden",
   "metadata": {},
   "outputs": [],
   "source": [
    "# create validation set\n",
    "X_valid, X_train = X_train_full[:5000], X_train_full[5000:]\n",
    "y_valid, y_train = y_train_full[:5000], y_train_full[5000:]\n",
    "\n",
    "# scale input features (pixel intensity) to a 0-1 range\n",
    "X_train, X_valid = X_train/255.0, X_valid/255.0"
   ]
  },
  {
   "cell_type": "markdown",
   "id": "early-luxembourg",
   "metadata": {},
   "source": [
    "The first model is a simple Sequential model, a stack of layers that are sequentially connected. The first layer is used for preprocessing and converts the input image into a 1D array, similar to X.reshape(-1, 28 times 28). The second layer is a Dense layer of 300 neurons that are fully connected to the next layer, together with a ReLu activation function. The next layer is similar but with 100 neurons. The final output layer has 10 neurons for the ten fashion item classes and uses a softmax function as activation function, since the classes are mutually exclusive."
   ]
  },
  {
   "cell_type": "code",
   "execution_count": 9,
   "id": "boolean-ticket",
   "metadata": {},
   "outputs": [],
   "source": [
    "# Model definition\n",
    "model = keras.models.Sequential()\n",
    "model.add(keras.layers.Flatten(input_shape=[28,28]))\n",
    "model.add(keras.layers.Dense(300, activation=\"relu\"))\n",
    "model.add(keras.layers.Dense(100, activation=\"relu\"))\n",
    "model.add(keras.layers.Dense(10, activation=\"softmax\"))"
   ]
  },
  {
   "cell_type": "code",
   "execution_count": 10,
   "id": "tracked-outline",
   "metadata": {},
   "outputs": [],
   "source": [
    "# Alternative notation\n",
    "model = keras.models.Sequential([\n",
    "    keras.layers.Flatten(input_shape=[28,28]),\n",
    "    keras.layers.Dense(300, activation=\"relu\"),\n",
    "    keras.layers.Dense(100, activation=\"relu\"),\n",
    "    keras.layers.Dense(10, activation=\"softmax\")\n",
    "])"
   ]
  },
  {
   "cell_type": "code",
   "execution_count": 11,
   "id": "separate-artist",
   "metadata": {},
   "outputs": [
    {
     "name": "stdout",
     "output_type": "stream",
     "text": [
      "Model: \"sequential_1\"\n",
      "_________________________________________________________________\n",
      "Layer (type)                 Output Shape              Param #   \n",
      "=================================================================\n",
      "flatten_1 (Flatten)          (None, 784)               0         \n",
      "_________________________________________________________________\n",
      "dense_3 (Dense)              (None, 300)               235500    \n",
      "_________________________________________________________________\n",
      "dense_4 (Dense)              (None, 100)               30100     \n",
      "_________________________________________________________________\n",
      "dense_5 (Dense)              (None, 10)                1010      \n",
      "=================================================================\n",
      "Total params: 266,610\n",
      "Trainable params: 266,610\n",
      "Non-trainable params: 0\n",
      "_________________________________________________________________\n"
     ]
    }
   ],
   "source": [
    "# print model summary\n",
    "model.summary()"
   ]
  },
  {
   "cell_type": "code",
   "execution_count": 12,
   "id": "twenty-fields",
   "metadata": {},
   "outputs": [
    {
     "data": {
      "image/png": "[encoded data removed]",
      "text/plain": [
       "<IPython.core.display.Image object>"
      ]
     },
     "execution_count": 12,
     "metadata": {},
     "output_type": "execute_result"
    }
   ],
   "source": [
    "# plot model\n",
    "keras.utils.plot_model(model, show_shapes=True)"
   ]
  },
  {
   "cell_type": "markdown",
   "id": "smoking-savage",
   "metadata": {},
   "source": [
    "Next, we specify the loss function and optimizer. Regarding the **loss function**: Since we predict the class, we are dealing with sparse labels (only one of the ten can have values). If we would predict class probability, we would use loss=\"categorical_crossentropy\" and in a binary problem with sigmoid instead of a softmax activation function in the final layer, we would use loss=\"binary_crossentropy\". We use Stochastic Gradient Descent as the **optimizer** to enable backpropagation as descibed above. We use accuracy as the **evaluation metric** during training and and validation."
   ]
  },
  {
   "cell_type": "code",
   "execution_count": 14,
   "id": "finished-comfort",
   "metadata": {},
   "outputs": [],
   "source": [
    "# specify loss function and optimizer\n",
    "model.compile(loss=\"sparse_categorical_crossentropy\",\n",
    "             optimizer=\"sgd\",\n",
    "             metrics=[\"accuracy\"])"
   ]
  },
  {
   "cell_type": "code",
   "execution_count": 15,
   "id": "allied-child",
   "metadata": {},
   "outputs": [
    {
     "name": "stdout",
     "output_type": "stream",
     "text": [
      "Epoch 1/30\n",
      "1719/1719 [==============================] - 3s 2ms/step - loss: 1.0184 - accuracy: 0.6834 - val_loss: 0.5062 - val_accuracy: 0.8282\n",
      "Epoch 2/30\n",
      "1719/1719 [==============================] - 2s 1ms/step - loss: 0.5014 - accuracy: 0.8272 - val_loss: 0.4538 - val_accuracy: 0.8446\n",
      "Epoch 3/30\n",
      "1719/1719 [==============================] - 2s 1ms/step - loss: 0.4531 - accuracy: 0.8413 - val_loss: 0.4527 - val_accuracy: 0.8354\n",
      "Epoch 4/30\n",
      "1719/1719 [==============================] - 2s 1ms/step - loss: 0.4163 - accuracy: 0.8537 - val_loss: 0.4055 - val_accuracy: 0.8628\n",
      "Epoch 5/30\n",
      "1719/1719 [==============================] - 2s 1ms/step - loss: 0.3934 - accuracy: 0.8630 - val_loss: 0.3756 - val_accuracy: 0.8694\n",
      "Epoch 6/30\n",
      "1719/1719 [==============================] - 2s 1ms/step - loss: 0.3843 - accuracy: 0.8659 - val_loss: 0.3899 - val_accuracy: 0.8620\n",
      "Epoch 7/30\n",
      "1719/1719 [==============================] - 2s 1ms/step - loss: 0.3726 - accuracy: 0.8686 - val_loss: 0.3689 - val_accuracy: 0.8698\n",
      "Epoch 8/30\n",
      "1719/1719 [==============================] - 2s 1ms/step - loss: 0.3564 - accuracy: 0.8736 - val_loss: 0.3587 - val_accuracy: 0.8732\n",
      "Epoch 9/30\n",
      "1719/1719 [==============================] - 2s 1ms/step - loss: 0.3522 - accuracy: 0.8765 - val_loss: 0.3607 - val_accuracy: 0.8742\n",
      "Epoch 10/30\n",
      "1719/1719 [==============================] - 2s 1ms/step - loss: 0.3354 - accuracy: 0.8791 - val_loss: 0.3396 - val_accuracy: 0.8834\n",
      "Epoch 11/30\n",
      "1719/1719 [==============================] - 2s 1ms/step - loss: 0.3238 - accuracy: 0.8845 - val_loss: 0.3426 - val_accuracy: 0.8782\n",
      "Epoch 12/30\n",
      "1719/1719 [==============================] - 2s 1ms/step - loss: 0.3142 - accuracy: 0.8883 - val_loss: 0.3475 - val_accuracy: 0.8790\n",
      "Epoch 13/30\n",
      "1719/1719 [==============================] - 2s 1ms/step - loss: 0.3064 - accuracy: 0.8904 - val_loss: 0.3342 - val_accuracy: 0.8794\n",
      "Epoch 14/30\n",
      "1719/1719 [==============================] - 2s 1ms/step - loss: 0.3006 - accuracy: 0.8919 - val_loss: 0.3347 - val_accuracy: 0.8792\n",
      "Epoch 15/30\n",
      "1719/1719 [==============================] - 2s 1ms/step - loss: 0.3011 - accuracy: 0.8909 - val_loss: 0.3487 - val_accuracy: 0.8710\n",
      "Epoch 16/30\n",
      "1719/1719 [==============================] - 2s 1ms/step - loss: 0.2902 - accuracy: 0.8952 - val_loss: 0.3193 - val_accuracy: 0.8858\n",
      "Epoch 17/30\n",
      "1719/1719 [==============================] - 2s 1ms/step - loss: 0.2784 - accuracy: 0.9021 - val_loss: 0.3101 - val_accuracy: 0.8882\n",
      "Epoch 18/30\n",
      "1719/1719 [==============================] - 2s 1ms/step - loss: 0.2728 - accuracy: 0.9017 - val_loss: 0.3245 - val_accuracy: 0.8836\n",
      "Epoch 19/30\n",
      "1719/1719 [==============================] - 2s 1ms/step - loss: 0.2734 - accuracy: 0.9021 - val_loss: 0.3103 - val_accuracy: 0.8900\n",
      "Epoch 20/30\n",
      "1719/1719 [==============================] - 2s 1ms/step - loss: 0.2643 - accuracy: 0.9059 - val_loss: 0.3044 - val_accuracy: 0.8906\n",
      "Epoch 21/30\n",
      "1719/1719 [==============================] - 2s 1ms/step - loss: 0.2585 - accuracy: 0.9064 - val_loss: 0.3037 - val_accuracy: 0.8906\n",
      "Epoch 22/30\n",
      "1719/1719 [==============================] - 2s 1ms/step - loss: 0.2597 - accuracy: 0.9066 - val_loss: 0.3058 - val_accuracy: 0.8890\n",
      "Epoch 23/30\n",
      "1719/1719 [==============================] - 2s 1ms/step - loss: 0.2543 - accuracy: 0.9086 - val_loss: 0.3011 - val_accuracy: 0.8946\n",
      "Epoch 24/30\n",
      "1719/1719 [==============================] - 2s 1ms/step - loss: 0.2466 - accuracy: 0.9125 - val_loss: 0.3055 - val_accuracy: 0.8914\n",
      "Epoch 25/30\n",
      "1719/1719 [==============================] - 2s 1ms/step - loss: 0.2414 - accuracy: 0.9136 - val_loss: 0.3051 - val_accuracy: 0.8914\n",
      "Epoch 26/30\n",
      "1719/1719 [==============================] - 2s 1ms/step - loss: 0.2445 - accuracy: 0.9113 - val_loss: 0.2937 - val_accuracy: 0.8904\n",
      "Epoch 27/30\n",
      "1719/1719 [==============================] - 3s 1ms/step - loss: 0.2367 - accuracy: 0.9167 - val_loss: 0.2975 - val_accuracy: 0.8938\n",
      "Epoch 28/30\n",
      "1719/1719 [==============================] - 2s 1ms/step - loss: 0.2320 - accuracy: 0.9172 - val_loss: 0.3004 - val_accuracy: 0.8906\n",
      "Epoch 29/30\n",
      "1719/1719 [==============================] - 2s 1ms/step - loss: 0.2238 - accuracy: 0.9175 - val_loss: 0.2919 - val_accuracy: 0.8950\n",
      "Epoch 30/30\n",
      "1719/1719 [==============================] - 2s 1ms/step - loss: 0.2222 - accuracy: 0.9208 - val_loss: 0.3392 - val_accuracy: 0.8800\n"
     ]
    }
   ],
   "source": [
    "# fit the model\n",
    "history = model.fit(X_train, y_train, epochs=30, \n",
    "                    validation_data=(X_valid, y_valid))"
   ]
  },
  {
   "cell_type": "code",
   "execution_count": null,
   "id": "killing-washer",
   "metadata": {},
   "outputs": [],
   "source": []
  }
 ],
 "metadata": {
  "kernelspec": {
   "display_name": "Python 3",
   "language": "python",
   "name": "python3"
  },
  "language_info": {
   "codemirror_mode": {
    "name": "ipython",
    "version": 3
   },
   "file_extension": ".py",
   "mimetype": "text/x-python",
   "name": "python",
   "nbconvert_exporter": "python",
   "pygments_lexer": "ipython3",
   "version": "3.8.5"
  }
 },
 "nbformat": 4,
 "nbformat_minor": 5
}
