{
 "cells": [
  {
   "cell_type": "markdown",
   "id": "elementary-closure",
   "metadata": {},
   "source": [
    "# Intro to ANNs\n",
    "\n",
    "Artificial Neural Networks has been around for a while with varying interest. NNs regularly outperform other ML techniques on very large and complex problems. Experts expect NNs to stay popular this time due to the vast amount of available data and compute power. Although this all sounds good, lack of explainability (black box model) could become more of an issue with AI ethics.\n",
    "\n",
    "## 1. Perceptron\n",
    "\n",
    "Invented in 1957, the Perceptron is one of the simplest ANN architecture. It consists of just one **threshold logic unit (TLU)**, which computes the weighted sum of the inputs and applies a step function to that sum to generate outputs. \n",
    "\n",
    "Thus, the Perceptron with a single TLU can be used for simple linear binary classification similar to Logistic Regression. Once the weighted sum exceeds the threshold, the instance is considered to be positive, else negative. Extending the Perceptron with multiple TLUs allows for multiclass predictions.\n",
    "\n",
    "A big downside of Perceptrons is that they are incapable of learning complex patterns since the decision boundary is linear (same as in Logistic Regression). A more complex ANN is necesseray for linearily non-separable datasets.\n",
    "\n",
    "**Let's apply the Perceptron with a single TLU to the iris dataset**"
   ]
  },
  {
   "cell_type": "code",
   "execution_count": null,
   "id": "sunset-train",
   "metadata": {},
   "outputs": [],
   "source": [
    "# code"
   ]
  }
 ],
 "metadata": {
  "kernelspec": {
   "display_name": "Python 3",
   "language": "python",
   "name": "python3"
  },
  "language_info": {
   "codemirror_mode": {
    "name": "ipython",
    "version": 3
   },
   "file_extension": ".py",
   "mimetype": "text/x-python",
   "name": "python",
   "nbconvert_exporter": "python",
   "pygments_lexer": "ipython3",
   "version": "3.8.5"
  }
 },
 "nbformat": 4,
 "nbformat_minor": 5
}
