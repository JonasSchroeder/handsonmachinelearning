{
 "cells": [
  {
   "cell_type": "markdown",
   "id": "beginning-residence",
   "metadata": {},
   "source": [
    "# Hyperparameter Tuning\n",
    "\n",
    "- Grid Search\n",
    "- Randomized Search\n",
    "- Bayesian Optimization\n",
    "\n",
    "The following examples will use a Random Forest Classifier on the MNIST dataset but the process in generally applicable to all kinds of models and problems."
   ]
  },
  {
   "cell_type": "code",
   "execution_count": 9,
   "id": "fifth-affiliate",
   "metadata": {},
   "outputs": [],
   "source": [
    "from sklearn.datasets import fetch_openml\n",
    "mnist = fetch_openml('mnist_784', version=1)\n",
    "\n",
    "X, y = mnist[\"data\"], mnist[\"target\"]\n",
    "\n",
    "from sklearn.model_selection import train_test_split\n",
    "X_train, X_test, y_train, y_test = train_test_split(X, y, test_size=0.4, shuffle=True, random_state=0)"
   ]
  },
  {
   "cell_type": "code",
   "execution_count": 10,
   "id": "smaller-toolbox",
   "metadata": {},
   "outputs": [
    {
     "data": {
      "text/plain": [
       "RandomForestClassifier()"
      ]
     },
     "execution_count": 10,
     "metadata": {},
     "output_type": "execute_result"
    }
   ],
   "source": [
    "# Baseline model\n",
    "\n",
    "from sklearn.ensemble import RandomForestClassifier\n",
    "\n",
    "rnd_clf = RandomForestClassifier()\n",
    "\n",
    "rnd_clf.fit(X_train, y_train)"
   ]
  },
  {
   "cell_type": "code",
   "execution_count": 12,
   "id": "obvious-absolute",
   "metadata": {},
   "outputs": [
    {
     "name": "stdout",
     "output_type": "stream",
     "text": [
      "1.0\n",
      "0.96475\n"
     ]
    }
   ],
   "source": [
    "print(rnd_clf.score(X_train, y_train))\n",
    "print(rnd_clf.score(X_test, y_test))"
   ]
  },
  {
   "cell_type": "code",
   "execution_count": 19,
   "id": "catholic-august",
   "metadata": {},
   "outputs": [
    {
     "name": "stdout",
     "output_type": "stream",
     "text": [
      "              precision    recall  f1-score   support\n",
      "\n",
      "           0       0.98      0.98      0.98      2812\n",
      "           1       0.98      0.99      0.99      3179\n",
      "           2       0.96      0.97      0.96      2787\n",
      "           3       0.96      0.95      0.95      2815\n",
      "           4       0.96      0.96      0.96      2678\n",
      "           5       0.97      0.95      0.96      2523\n",
      "           6       0.97      0.98      0.98      2740\n",
      "           7       0.97      0.96      0.97      2927\n",
      "           8       0.94      0.95      0.95      2716\n",
      "           9       0.95      0.95      0.95      2823\n",
      "\n",
      "    accuracy                           0.96     28000\n",
      "   macro avg       0.96      0.96      0.96     28000\n",
      "weighted avg       0.96      0.96      0.96     28000\n",
      "\n"
     ]
    }
   ],
   "source": [
    "from sklearn.metrics import classification_report\n",
    "\n",
    "print(classification_report(y_test, rnd_clf.predict(X_test)))"
   ]
  },
  {
   "cell_type": "code",
   "execution_count": null,
   "id": "naughty-hearing",
   "metadata": {},
   "outputs": [],
   "source": [
    "from sklearn.model_selection import GridSearchCV\n",
    "\n",
    "param_grid = {'C': [0.1,1, 10, 100], \n",
    "              'gamma': [1,0.1,0.01,0.001]}\n",
    "\n",
    "lin_svc = LinearSVC()\n",
    "\n",
    "grid_search_clf = GridSearchCV(SVC(), param_grid, cv=3, refit=True, verbose=10, n_jobs=-1)\n",
    "\n",
    "%time grid_search_clf.fit(X_train, y_train)"
   ]
  }
 ],
 "metadata": {
  "kernelspec": {
   "display_name": "Python 3",
   "language": "python",
   "name": "python3"
  },
  "language_info": {
   "codemirror_mode": {
    "name": "ipython",
    "version": 3
   },
   "file_extension": ".py",
   "mimetype": "text/x-python",
   "name": "python",
   "nbconvert_exporter": "python",
   "pygments_lexer": "ipython3",
   "version": "3.8.5"
  }
 },
 "nbformat": 4,
 "nbformat_minor": 5
}
