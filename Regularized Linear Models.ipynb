{
 "cells": [
  {
   "cell_type": "markdown",
   "metadata": {},
   "source": [
    "# Regularized Linear Models\n",
    "\n",
    "A good model generalized well. The generalization error can be summarized as the sum of bias error, variance error, and irreducible error. A **high-bias model** is usually the result of a model that misses important information and thus underfits while a **high-variance model** is too sensitive, thus has high variance and overfits the training data. \n",
    "\n",
    "There is a **trade-off between bias and variance** since reducing the model complexity reduces variance but increases bias. The **irreducible error**, however, is the result not of the model but noisy data and can be reduced by cleaning up the data.\n",
    "\n",
    "**Regularization** is a way to reduce overfitting by constraining the weights of a linear model.\n",
    "\n",
    "### Table of Contents\n",
    "1. Ridge Regression (Tikhonov Regularization)\n",
    "2. Lasso Regression\n",
    "3. Elastic Net\n",
    "4. Application Examples"
   ]
  },
  {
   "cell_type": "markdown",
   "metadata": {},
   "source": [
    "# Linear Regression"
   ]
  },
  {
   "cell_type": "code",
   "execution_count": 70,
   "metadata": {},
   "outputs": [],
   "source": [
    "# evaluate an ridge regression model on the dataset\n",
    "import numpy as np\n",
    "from pandas import read_csv\n",
    "\n",
    "# load the dataset\n",
    "url = 'https://raw.githubusercontent.com/jbrownlee/Datasets/master/housing.csv'\n",
    "input_df = read_csv(url, header=None)\n",
    "#print(input_df)\n",
    "\n",
    "data = input_df.values\n",
    "\n",
    "X = data[0:35, 12] # choose one feature\n",
    "y = data[0:35, 13] # target"
   ]
  },
  {
   "cell_type": "code",
   "execution_count": 71,
   "metadata": {},
   "outputs": [
    {
     "name": "stderr",
     "output_type": "stream",
     "text": [
      "/Users/jonasschroeder/opt/anaconda3/lib/python3.8/site-packages/seaborn/_decorators.py:36: FutureWarning: Pass the following variables as keyword args: x, y. From version 0.12, the only valid positional argument will be `data`, and passing other arguments without an explicit keyword will result in an error or misinterpretation.\n",
      "  warnings.warn(\n"
     ]
    },
    {
     "data": {
      "text/plain": [
       "<AxesSubplot:>"
      ]
     },
     "execution_count": 71,
     "metadata": {},
     "output_type": "execute_result"
    },
    {
     "data": {
      "image/png": "[encoded data removed]",
      "text/plain": [
       "<Figure size 432x288 with 1 Axes>"
      ]
     },
     "metadata": {
      "needs_background": "light"
     },
     "output_type": "display_data"
    }
   ],
   "source": [
    "import seaborn as sns\n",
    "sns.scatterplot(X,y)"
   ]
  },
  {
   "cell_type": "markdown",
   "metadata": {},
   "source": [
    "### Simple Linear Regression"
   ]
  },
  {
   "cell_type": "code",
   "execution_count": 55,
   "metadata": {},
   "outputs": [
    {
     "data": {
      "image/png": "[encoded data removed]",
      "text/plain": [
       "<Figure size 432x288 with 1 Axes>"
      ]
     },
     "metadata": {
      "needs_background": "light"
     },
     "output_type": "display_data"
    },
    {
     "name": "stdout",
     "output_type": "stream",
     "text": [
      "RMSE: 4.109901007971022\n",
      "R2 score: 0.5397260819538162\n"
     ]
    }
   ],
   "source": [
    "# Simple linear regression\n",
    "from sklearn.linear_model import LinearRegression\n",
    "from sklearn.metrics import mean_squared_error, r2_score\n",
    "import numpy as np\n",
    "import matplotlib.pyplot as plt\n",
    "\n",
    "lin_reg = LinearRegression()\n",
    "\n",
    "# reshape\n",
    "X_re = X[:, np.newaxis]\n",
    "y_re = y[:, np.newaxis]\n",
    "\n",
    "lin_reg.fit(X_re, y_re)\n",
    "\n",
    "y_pred = lin_reg.predict(X_re)\n",
    "\n",
    "# Plot fit over data\n",
    "plt.scatter(X_re, y_re, s=10)\n",
    "plt.plot(X_re, y_pred, color='r')\n",
    "plt.show()\n",
    "\n",
    "# Model accuracy\n",
    "rmse = np.sqrt(mean_squared_error(y,y_pred))\n",
    "r2 = r2_score(y,y_pred)\n",
    "print(\"RMSE: \" + str(rmse))\n",
    "print(\"R2 score: \" + str(r2))"
   ]
  },
  {
   "cell_type": "markdown",
   "metadata": {},
   "source": [
    "### Polynomial Regression (Linear Regression after Polynomial Transformation)"
   ]
  },
  {
   "cell_type": "code",
   "execution_count": 56,
   "metadata": {},
   "outputs": [
    {
     "data": {
      "image/png": "[encoded data removed]",
      "text/plain": [
       "<Figure size 432x288 with 1 Axes>"
      ]
     },
     "metadata": {
      "needs_background": "light"
     },
     "output_type": "display_data"
    },
    {
     "name": "stdout",
     "output_type": "stream",
     "text": [
      "RMSE: 3.7775471605955646\n",
      "R2 score: 0.6111577631639977\n"
     ]
    }
   ],
   "source": [
    "# Polynomial regression\n",
    "import operator\n",
    "from sklearn.linear_model import LinearRegression\n",
    "from sklearn.preprocessing import PolynomialFeatures\n",
    "from sklearn.metrics import mean_squared_error, r2_score\n",
    "import numpy as np\n",
    "import matplotlib.pyplot as plt\n",
    "\n",
    "lin_reg = LinearRegression()\n",
    "\n",
    "# reshape\n",
    "X_re = X[:, np.newaxis]\n",
    "y_re = y[:, np.newaxis]\n",
    "\n",
    "# polynomial transformation\n",
    "polynomial_features= PolynomialFeatures(degree=2)\n",
    "X_poly = polynomial_features.fit_transform(X_re)\n",
    "\n",
    "lin_reg.fit(X_poly, y_re)\n",
    "\n",
    "y_poly_pred = lin_reg.predict(X_poly)\n",
    "\n",
    "# Plot fit over data:\n",
    "plt.scatter(X_re, y_re, s=10)\n",
    "sort_axis = operator.itemgetter(0)\n",
    "sorted_zip = sorted(zip(X_re, y_poly_pred), key=sort_axis)\n",
    "X_re_sort, y_poly_pred = zip(*sorted_zip)\n",
    "plt.plot(X_re_sort, y_poly_pred, color='r')\n",
    "plt.show()\n",
    "\n",
    "# Model accuracy\n",
    "rmse = np.sqrt(mean_squared_error(y_re, y_poly_pred))\n",
    "r2 = r2_score(y_re, y_poly_pred)\n",
    "print(\"RMSE: \" + str(rmse))\n",
    "print(\"R2 score: \" + str(r2))"
   ]
  },
  {
   "cell_type": "markdown",
   "metadata": {},
   "source": [
    "# 1. Ridge Regression (Tikhonov Regularization)\n",
    "\n",
    "During training the model, a regularization term is added to the cost function which keeps the weights as small as possible (thus preventing overfitting). This adapted cost function is called ridge regression cost function, it includes **regularizer penalty**, which is moderated by alpha (or lamda).\n",
    "\n",
    "Thus, when we fit a model with ridge regression, we minimize the cost function: \n",
    "### cost = sum of squared residuals + lamda * (slope)^2\n",
    "\n",
    "\n",
    "This introduces a small amount of Bias but reduces the Variance significantly and thus reduces the chance of overfitting the training data.\n",
    "\n",
    "A ridge model with **alpha=0 is equivalent to the simple linear regression model** (see example below).\n",
    "\n",
    "The **larger the hyperparameter alpha, the closer the weights end up at zero** and the result is a flat line through the data's mean.\n",
    "\n",
    "This leads to a ridge regression model having smaller weights than without regularization (or same weights when lambda = 1)."
   ]
  },
  {
   "cell_type": "code",
   "execution_count": 57,
   "metadata": {},
   "outputs": [
    {
     "data": {
      "image/png": "[encoded data removed]",
      "text/plain": [
       "<Figure size 432x288 with 1 Axes>"
      ]
     },
     "metadata": {
      "needs_background": "light"
     },
     "output_type": "display_data"
    },
    {
     "name": "stdout",
     "output_type": "stream",
     "text": [
      "RMSE: 4.109902204828202\n",
      "R2 score: 0.5397258138781507\n"
     ]
    }
   ],
   "source": [
    "# define model with alpha=1\n",
    "ridge_reg = Ridge(alpha=1.0)\n",
    "\n",
    "# reshape\n",
    "X_re = X[:, np.newaxis]\n",
    "y_re = y[:, np.newaxis]\n",
    "\n",
    "# fit ridge model\n",
    "ridge_reg.fit(X_re, y_re)\n",
    "\n",
    "# predict y\n",
    "y_ridge_pred = ridge_reg.predict(X_re)\n",
    "\n",
    "# Plot fit over data\n",
    "plt.scatter(X_re, y_re, s=10)\n",
    "plt.plot(X_re, y_ridge_pred, color='r')\n",
    "plt.show()\n",
    "\n",
    "# Model accuracy\n",
    "rmse = np.sqrt(mean_squared_error(y_re, y_ridge_pred))\n",
    "r2 = r2_score(y_re, y_ridge_pred)\n",
    "print(\"RMSE: \" + str(rmse))\n",
    "print(\"R2 score: \" + str(r2))"
   ]
  },
  {
   "cell_type": "code",
   "execution_count": 58,
   "metadata": {},
   "outputs": [
    {
     "data": {
      "image/png": "[encoded data removed]",
      "text/plain": [
       "<Figure size 432x288 with 1 Axes>"
      ]
     },
     "metadata": {
      "needs_background": "light"
     },
     "output_type": "display_data"
    },
    {
     "name": "stdout",
     "output_type": "stream",
     "text": [
      "RMSE: 5.664306099570402\n",
      "R2 score: 0.12572698850601627\n",
      "\n",
      "Data mean is : 19.63714285714286\n"
     ]
    }
   ],
   "source": [
    "# define model with very large alpha\n",
    "ridge_reg = Ridge(alpha=10000)\n",
    "\n",
    "# reshape\n",
    "X_re = X[:, np.newaxis]\n",
    "y_re = y[:, np.newaxis]\n",
    "\n",
    "# fit ridge model\n",
    "ridge_reg.fit(X_re, y_re)\n",
    "\n",
    "# predict y\n",
    "y_ridge_pred = ridge_reg.predict(X_re)\n",
    "\n",
    "# Plot fit over data\n",
    "plt.scatter(X_re, y_re, s=10)\n",
    "plt.plot(X_re, y_ridge_pred, color='r')\n",
    "plt.show()\n",
    "\n",
    "# Model accuracy\n",
    "rmse = np.sqrt(mean_squared_error(y_re, y_ridge_pred))\n",
    "r2 = r2_score(y_re, y_ridge_pred)\n",
    "print(\"RMSE: \" + str(rmse))\n",
    "print(\"R2 score: \" + str(r2))\n",
    "\n",
    "print(\"\\nData mean is : \" + str(np.mean(y_re)))"
   ]
  },
  {
   "cell_type": "markdown",
   "metadata": {},
   "source": [
    "By controlling the model weights, ridge regularization reduces the variance of a model. \n",
    "\n",
    "Let's try ridge regularization after polynomial transformation with degree=10 versus without regularization."
   ]
  },
  {
   "cell_type": "code",
   "execution_count": 60,
   "metadata": {},
   "outputs": [
    {
     "data": {
      "image/png": "[encoded data removed]",
      "text/plain": [
       "<Figure size 432x288 with 1 Axes>"
      ]
     },
     "metadata": {
      "needs_background": "light"
     },
     "output_type": "display_data"
    },
    {
     "name": "stdout",
     "output_type": "stream",
     "text": [
      "RMSE: 4.00674477872459\n",
      "R2 score: 0.5625413562835297\n"
     ]
    }
   ],
   "source": [
    "# reshape\n",
    "X_re = X[:, np.newaxis]\n",
    "y_re = y[:, np.newaxis]\n",
    "\n",
    "# polynomial transformation\n",
    "polynomial_features= PolynomialFeatures(degree=10)\n",
    "X_poly = polynomial_features.fit_transform(X_re)\n",
    "\n",
    "#----------\n",
    "\n",
    "# Model without regularization\n",
    "\n",
    "lin_reg = LinearRegression()\n",
    "lin_reg.fit(X_poly, y_re)\n",
    "\n",
    "y_poly_pred = lin_reg.predict(X_poly)\n",
    "\n",
    "# Plot fit over data\n",
    "plt.scatter(X_re, y_re, s=10)\n",
    "sort_axis = operator.itemgetter(0)\n",
    "sorted_zip = sorted(zip(X_re, y_poly_pred), key=sort_axis)\n",
    "X_re_sort, y_poly_pred = zip(*sorted_zip)\n",
    "plt.plot(X_re_sort, y_poly_pred, color='r')\n",
    "plt.show()\n",
    "\n",
    "# Model accuracy\n",
    "rmse = np.sqrt(mean_squared_error(y_re, y_poly_pred))\n",
    "r2 = r2_score(y_re, y_poly_pred)\n",
    "print(\"RMSE: \" + str(rmse))\n",
    "print(\"R2 score: \" + str(r2))\n"
   ]
  },
  {
   "cell_type": "code",
   "execution_count": 72,
   "metadata": {},
   "outputs": [
    {
     "name": "stderr",
     "output_type": "stream",
     "text": [
      "/Users/jonasschroeder/opt/anaconda3/lib/python3.8/site-packages/sklearn/linear_model/_ridge.py:147: LinAlgWarning: Ill-conditioned matrix (rcond=2.05472e-29): result may not be accurate.\n",
      "  return linalg.solve(A, Xy, sym_pos=True,\n"
     ]
    },
    {
     "data": {
      "image/png": "[encoded data removed]",
      "text/plain": [
       "<Figure size 432x288 with 1 Axes>"
      ]
     },
     "metadata": {
      "needs_background": "light"
     },
     "output_type": "display_data"
    },
    {
     "name": "stdout",
     "output_type": "stream",
     "text": [
      "RMSE: 3.9183157683812606\n",
      "R2 score: 0.5816377340057715\n"
     ]
    }
   ],
   "source": [
    "# Model with ridge regularization\n",
    "from sklearn.linear_model import Ridge\n",
    "\n",
    "# define model with alpha=xxx\n",
    "ridge_reg = Ridge(alpha=10)\n",
    "\n",
    "# fit ridge model\n",
    "ridge_reg.fit(X_poly, y_re)\n",
    "\n",
    "# predict y\n",
    "y_ridge_poly_pred = ridge_reg.predict(X_poly)\n",
    "\n",
    "# Plot fit over data\n",
    "plt.scatter(X_re, y_re, s=10)\n",
    "sort_axis = operator.itemgetter(0)\n",
    "sorted_zip = sorted(zip(X_re, y_ridge_poly_pred), key=sort_axis)\n",
    "X_re_sort, y_ridge_poly_pred = zip(*sorted_zip)\n",
    "plt.plot(X_re_sort, y_ridge_poly_pred, color='r')\n",
    "plt.show()\n",
    "\n",
    "# Model accuracy\n",
    "rmse = np.sqrt(mean_squared_error(y_re, y_ridge_poly_pred))\n",
    "r2 = r2_score(y_re, y_ridge_poly_pred)\n",
    "print(\"RMSE: \" + str(rmse))\n",
    "print(\"R2 score: \" + str(r2))"
   ]
  },
  {
   "cell_type": "markdown",
   "metadata": {},
   "source": [
    "# 2. Lasso Regression\n",
    "\n",
    "**Lasso Regression** stands for **Least Absolute Shrinkage and Selection Operator Regression**. Like Ridge, the model is regularized by adding a regularization term to the cost function, but it uses the L1 norm of the weight vector instead of half the square of the L2 norm.\n",
    "\n",
    "Lasso regression tends to eliminate the weights of the least important features by setting them to zero. Thus, **Lasso performs feature selection** and outputs a sparse model with only a few nonzero feature weights."
   ]
  },
  {
   "cell_type": "code",
   "execution_count": 84,
   "metadata": {},
   "outputs": [
    {
     "name": "stderr",
     "output_type": "stream",
     "text": [
      "/Users/jonasschroeder/opt/anaconda3/lib/python3.8/site-packages/sklearn/linear_model/_coordinate_descent.py:529: ConvergenceWarning: Objective did not converge. You might want to increase the number of iterations. Duality gap: 266.16215874538346, tolerance: 0.12844417142857145\n",
      "  model = cd_fast.enet_coordinate_descent(\n"
     ]
    },
    {
     "data": {
      "image/png": "[encoded data removed]",
      "text/plain": [
       "<Figure size 432x288 with 1 Axes>"
      ]
     },
     "metadata": {
      "needs_background": "light"
     },
     "output_type": "display_data"
    },
    {
     "name": "stdout",
     "output_type": "stream",
     "text": [
      "RMSE: 3.6695733053250272\n",
      "R2 score: 0.6330686840293992\n"
     ]
    }
   ],
   "source": [
    "# Polynomial regression as before but using Lasso regularization\n",
    "\n",
    "from sklearn.linear_model import Lasso\n",
    "\n",
    "# define model with alpha=xxx\n",
    "lasso_reg = Lasso(alpha=10)\n",
    "\n",
    "# fit ridge model\n",
    "lasso_reg.fit(X_poly, y_re)\n",
    "\n",
    "# predict y\n",
    "y_lasso_poly_pred = lasso_reg.predict(X_poly)\n",
    "\n",
    "# Plot fit over data\n",
    "plt.scatter(X_re, y_re, s=10)\n",
    "sort_axis = operator.itemgetter(0)\n",
    "sorted_zip = sorted(zip(X_re, y_lasso_poly_pred), key=sort_axis)\n",
    "X_re_sort, y_lasso_poly_pred = zip(*sorted_zip)\n",
    "plt.plot(X_re_sort, y_lasso_poly_pred, color='r')\n",
    "plt.show()\n",
    "\n",
    "# Model accuracy\n",
    "rmse = np.sqrt(mean_squared_error(y_re, y_lasso_poly_pred))\n",
    "r2 = r2_score(y_re, y_lasso_poly_pred)\n",
    "print(\"RMSE: \" + str(rmse))\n",
    "print(\"R2 score: \" + str(r2))"
   ]
  },
  {
   "cell_type": "markdown",
   "metadata": {},
   "source": [
    "Ridge and Lasso regularization can also be implemented using **SGDRegressor and the respective penalty** hyperparameter set\n"
   ]
  },
  {
   "cell_type": "code",
   "execution_count": 92,
   "metadata": {},
   "outputs": [
    {
     "name": "stdout",
     "output_type": "stream",
     "text": [
      "RMSE: 4.238252575163028e+37\n",
      "R2 score: -4.89471389934018e+73\n"
     ]
    },
    {
     "name": "stderr",
     "output_type": "stream",
     "text": [
      "/Users/jonasschroeder/opt/anaconda3/lib/python3.8/site-packages/sklearn/utils/validation.py:72: DataConversionWarning: A column-vector y was passed when a 1d array was expected. Please change the shape of y to (n_samples, ), for example using ravel().\n",
      "  return f(**kwargs)\n"
     ]
    },
    {
     "data": {
      "image/png": "[encoded data removed]",
      "text/plain": [
       "<Figure size 432x288 with 1 Axes>"
      ]
     },
     "metadata": {
      "needs_background": "light"
     },
     "output_type": "display_data"
    }
   ],
   "source": [
    "from sklearn.linear_model import SGDRegressor\n",
    "\n",
    "# similar to Ridge()\n",
    "\n",
    "sgd_reg = SGDRegressor(penalty=\"l2\")\n",
    "\n",
    "sgd_reg.fit(X_poly, y_re)\n",
    "\n",
    "y_pred = sgd_reg.predict(X_poly)\n",
    "\n",
    "rmse = np.sqrt(mean_squared_error(y_re, y_pred))\n",
    "r2 = r2_score(y_re, y_pred)\n",
    "print(\"RMSE: \" + str(rmse))\n",
    "print(\"R2 score: \" + str(r2))\n",
    "\n",
    "# Plot fit over data\n",
    "plt.scatter(X_re, y_re, s=10)\n",
    "sort_axis = operator.itemgetter(0)\n",
    "sorted_zip = sorted(zip(X_re, y_lasso_poly_pred), key=sort_axis)\n",
    "X_re_sort, y_lasso_poly_pred = zip(*sorted_zip)\n",
    "plt.plot(X_re_sort, y_lasso_poly_pred, color='r')\n",
    "plt.show()"
   ]
  },
  {
   "cell_type": "code",
   "execution_count": 91,
   "metadata": {},
   "outputs": [
    {
     "name": "stdout",
     "output_type": "stream",
     "text": [
      "RMSE: 5.1932048512088335e+36\n",
      "R2 score: -7.348937452226766e+71\n"
     ]
    },
    {
     "name": "stderr",
     "output_type": "stream",
     "text": [
      "/Users/jonasschroeder/opt/anaconda3/lib/python3.8/site-packages/sklearn/utils/validation.py:72: DataConversionWarning: A column-vector y was passed when a 1d array was expected. Please change the shape of y to (n_samples, ), for example using ravel().\n",
      "  return f(**kwargs)\n"
     ]
    },
    {
     "data": {
      "image/png": "[encoded data removed]",
      "text/plain": [
       "<Figure size 432x288 with 1 Axes>"
      ]
     },
     "metadata": {
      "needs_background": "light"
     },
     "output_type": "display_data"
    }
   ],
   "source": [
    "# similar to Lasso()\n",
    "\n",
    "sgd_reg = SGDRegressor(penalty=\"l1\")\n",
    "\n",
    "sgd_reg.fit(X_poly, y_re)\n",
    "\n",
    "y_pred = sgd_reg.predict(X_poly)\n",
    "\n",
    "rmse = np.sqrt(mean_squared_error(y_re, y_pred))\n",
    "r2 = r2_score(y_re, y_pred)\n",
    "print(\"RMSE: \" + str(rmse))\n",
    "print(\"R2 score: \" + str(r2))\n",
    "\n",
    "# Plot fit over data\n",
    "plt.scatter(X_re, y_re, s=10)\n",
    "sort_axis = operator.itemgetter(0)\n",
    "sorted_zip = sorted(zip(X_re, y_lasso_poly_pred), key=sort_axis)\n",
    "X_re_sort, y_lasso_poly_pred = zip(*sorted_zip)\n",
    "plt.plot(X_re_sort, y_lasso_poly_pred, color='r')\n",
    "plt.show()"
   ]
  },
  {
   "attachments": {},
   "cell_type": "markdown",
   "metadata": {},
   "source": [
    "# todo\n",
    "\n",
    "## Why is Ridge called an L2 regularization? Why Lasso L1?\n",
    "\n",
    "When we talk about norms in machine learning, we are talking about mathematical ways to express distance between two vectors.\n",
    "\n",
    "**Manhattan distance** or **taxicab geometry** measure distance by summing up the right-angle distances (like a cab driving around a block).\n",
    "\n",
    "**Euclidean distance** is the simplest form, it is how we would measure the distance between two points (diagonal distance)\n",
    "\n",
    "When we fit a model, we have a cost function which measures the distance between the predicted and actual point. Thus, our definition of distance is relevant for the cost function.\n",
    "\n",
    "Euclidean distance is also called the **L2 norm** and Manhattan distance is known as **L1 norm**. \n",
    "\n",
    "Thus, **Ridge Regression uses Euclidean Distance** and **Lasso Regressionen uses Manhattan distance** when expressing the regularization term which is added to the cost function.\n",
    "\n",
    "More: https://www.kaggle.com/residentmario/l1-norms-versus-l2-norms\n",
    "\n",
    "\n",
    "## When do we use Ridge, when Lasso?\n",
    "\n",
    "- L1 is more robust against outliers (extreme values) than L2 since L2 squares values\n",
    "- L2 is more stable than L1 (? resistance to horizontal adjustments ?)\n",
    "- there is ony one numeric solution for L2 (one diagonal), but many for L1 (many ways to get from A to B in Manhattan)\n",
    "- L1 is more difficult to compute than L2, since L2 has a closed form solution but L1 can only be solved piece-wise\n",
    "- L1 leads to more sparsity (elimination of many feature weights) then L2 \n",
    "\n",
    "## What does this mean? Example?\n",
    "\"Ridge regression and lasso regression are two different techniques for increasing the robustness against colinearity of ordinary least squares regression\""
   ]
  },
  {
   "cell_type": "code",
   "execution_count": 94,
   "metadata": {},
   "outputs": [],
   "source": [
    "# regression example using lasso and ridge regression (train test split, cross validation, pipeline, etc)\n",
    "#\n",
    "#\n",
    "#\n",
    "#"
   ]
  },
  {
   "cell_type": "code",
   "execution_count": null,
   "metadata": {},
   "outputs": [],
   "source": []
  }
 ],
 "metadata": {
  "kernelspec": {
   "display_name": "Python 3",
   "language": "python",
   "name": "python3"
  },
  "language_info": {
   "codemirror_mode": {
    "name": "ipython",
    "version": 3
   },
   "file_extension": ".py",
   "mimetype": "text/x-python",
   "name": "python",
   "nbconvert_exporter": "python",
   "pygments_lexer": "ipython3",
   "version": "3.8.5"
  }
 },
 "nbformat": 4,
 "nbformat_minor": 4
}
